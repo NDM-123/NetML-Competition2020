{
 "cells": [
  {
   "cell_type": "markdown",
   "metadata": {},
   "source": [
    "## Random Forest Baseline Quickstart for NetML-Competition 2020\n",
    "\n",
    "### * Loads datasets, plots confusion matrix, prints evaluation metrics on validation set and create submission JSON files"
   ]
  },
  {
   "cell_type": "code",
   "execution_count": 1,
   "metadata": {},
   "outputs": [],
   "source": [
    "import os\n",
    "import json\n",
    "import argparse\n",
    "import time as t\n",
    "import numpy as np\n",
    "import pandas as pd\n",
    "import matplotlib.pyplot as plt\n",
    "\n",
    "from sklearn import preprocessing\n",
    "from sklearn.ensemble import RandomForestClassifier\n",
    "from sklearn.model_selection import train_test_split\n",
    "from sklearn.metrics import confusion_matrix\n",
    "\n",
    "from utils.helper import *"
   ]
  },
  {
   "cell_type": "code",
   "execution_count": 2,
   "metadata": {},
   "outputs": [],
   "source": [
    "# Define function to create submissions\n",
    "def do_submit(clf, test_set, scaler, class_label_pair, filepath):\n",
    "    Xtest, ids = get_submission_data(test_set)\n",
    "    X_test_scaled = scaler.transform(Xtest)\n",
    "    print(\"Predicting on {} ...\".format(test_set.split('/')[-1]))\n",
    "    predictions = clf.predict(X_test_scaled)\n",
    "    make_submission(predictions, ids, class_label_pair, filepath)   "
   ]
  },
  {
   "cell_type": "code",
   "execution_count": 3,
   "metadata": {},
   "outputs": [],
   "source": [
    "# Modify only this cell:\n",
    "# Note: anno = \"mid\" is valid ONLY with non-vpn2016 dataset\n",
    "###\n",
    "dataset = \"./data/NetML\" # or \"./data/CICIDS2017\" or \"./data/non-vpn2016\"\n",
    "anno = \"fine\" # or \"mid\" or \"fine\"\n",
    "submit = \"both\" # or \"test-std\" or \"test-challenge\"\n",
    "###"
   ]
  },
  {
   "cell_type": "code",
   "execution_count": 4,
   "metadata": {},
   "outputs": [],
   "source": [
    "# Assign variables\n",
    "training_set = dataset+\"/2_training_set\"\n",
    "training_anno_file = dataset+\"/2_training_annotations/2_training_anno_\"+anno+\".json.gz\"\n",
    "test_set = dataset+\"/1_test-std_set\"\n",
    "challenge_set = dataset+\"/0_test-challenge_set\""
   ]
  },
  {
   "cell_type": "code",
   "execution_count": 18,
   "metadata": {},
   "outputs": [],
   "source": [
    "# Create folder for the results\n",
    "time_ = t.strftime(\"%Y%m%d-%H%M%S\")\n",
    "\n",
    "save_dir = os.getcwd() + '/results/' + time_\n",
    "os.makedirs(save_dir)"
   ]
  },
  {
   "cell_type": "code",
   "execution_count": 6,
   "metadata": {},
   "outputs": [
    {
     "name": "stdout",
     "output_type": "stream",
     "text": [
      "\n",
      "Loading training set ...\n",
      "Reading 2_training_set.json.gz\n"
     ]
    }
   ],
   "source": [
    "# Get training data in np.array format\n",
    "Xtrain, ytrain, class_label_pair, Xtrain_ids = get_training_data(training_set, training_anno_file)\n",
    "\n",
    "# Split validation set from training data\n",
    "X_train, X_val, y_train, y_val = train_test_split(Xtrain, ytrain,\n",
    "                                                test_size=0.2, \n",
    "                                                random_state=42,\n",
    "                                                stratify=ytrain)"
   ]
  },
  {
   "cell_type": "code",
   "execution_count": 7,
   "metadata": {},
   "outputs": [],
   "source": [
    "from sklearn.feature_selection import VarianceThreshold\n",
    "# Get name of each class to display in confusion matrix\n",
    "class_names = list(sorted(class_label_pair.keys()))\n",
    "\n",
    "# Preprocess the data\n",
    "scaler = preprocessing.StandardScaler()\n",
    "X_train_scaled = scaler.fit_transform(X_train)\n",
    "X_val_scaled = scaler.transform(X_val)\n",
    "\n",
    "# selector = VarianceThreshold()\n",
    "# X_train_scaled = selector.fit_transform(X_train_scaled)\n",
    "# X_val_scaled = selector.fit_transform(X_val_scaled)"
   ]
  },
  {
   "cell_type": "code",
   "execution_count": 8,
   "metadata": {},
   "outputs": [
    {
     "data": {
      "text/plain": [
       "RandomForestClassifier(bootstrap=True, ccp_alpha=0.0, class_weight=None,\n",
       "                       criterion='gini', max_depth=10, max_features='auto',\n",
       "                       max_leaf_nodes=None, max_samples=None,\n",
       "                       min_impurity_decrease=0.0, min_impurity_split=None,\n",
       "                       min_samples_leaf=1, min_samples_split=2,\n",
       "                       min_weight_fraction_leaf=0.0, n_estimators=100,\n",
       "                       n_jobs=-1, oob_score=False, random_state=42, verbose=0,\n",
       "                       warm_start=False)"
      ]
     },
     "execution_count": 8,
     "metadata": {},
     "output_type": "execute_result"
    }
   ],
   "source": [
    "clf = RandomForestClassifier(n_estimators=100, max_depth=10, random_state=42, n_jobs = -1, max_features=\"auto\")\n",
    "clf.fit(X_train_scaled, y_train)"
   ]
  },
  {
   "cell_type": "code",
   "execution_count": 9,
   "metadata": {},
   "outputs": [
    {
     "name": "stdout",
     "output_type": "stream",
     "text": [
      "Training Score: \t0.75982\n",
      "Validation Score: \t0.75746\n"
     ]
    }
   ],
   "source": [
    "# Output accuracy of classifier\n",
    "print(\"Training Score: \\t{:.5f}\".format(clf.score(X_train_scaled, y_train)))\n",
    "print(\"Validation Score: \\t{:.5f}\".format(clf.score(X_val_scaled, y_val)))"
   ]
  },
  {
   "cell_type": "code",
   "execution_count": 10,
   "metadata": {},
   "outputs": [],
   "source": [
    "import warnings\n",
    "warnings.filterwarnings('ignore')\n",
    "\n",
    "# Compare Algorithms\n",
    "from sklearn.linear_model import LogisticRegression\n",
    "from sklearn.linear_model import LogisticRegressionCV\n",
    "from sklearn.linear_model.stochastic_gradient import SGDClassifier\n",
    "from sklearn.linear_model.ridge import RidgeClassifierCV\n",
    "from sklearn.linear_model.ridge import RidgeClassifier\n",
    "from sklearn.linear_model import Perceptron\n",
    "from sklearn.tree import DecisionTreeClassifier\n",
    "from sklearn.tree import ExtraTreeClassifier\n",
    "from sklearn.ensemble.forest import ExtraTreesClassifier\n",
    "from sklearn.ensemble.gradient_boosting import GradientBoostingClassifier\n",
    "from sklearn.discriminant_analysis import LinearDiscriminantAnalysis\n",
    "from sklearn.discriminant_analysis import QuadraticDiscriminantAnalysis\n",
    "from sklearn.neural_network import MLPClassifier\n",
    "from sklearn.naive_bayes import GaussianNB\n",
    "from sklearn.naive_bayes import BernoulliNB\n",
    "from sklearn.calibration import CalibratedClassifierCV\n",
    "from sklearn.neighbors import NearestCentroid\n",
    "from sklearn.mixture import GaussianMixture\n",
    "\n",
    "\n",
    "from sklearn.model_selection import cross_val_predict\n",
    "from sklearn.metrics import confusion_matrix\n",
    "import timeit\n"
   ]
  },
  {
   "cell_type": "code",
   "execution_count": 11,
   "metadata": {
    "scrolled": true
   },
   "outputs": [
    {
     "name": "stdout",
     "output_type": "stream",
     "text": [
      "We are good to go ->\n",
      "model:NearC\n",
      "Training Score: \t0.44768\n",
      "Validation Score: \t0.44728\n",
      "Time for model:  1.2634430000000094\n",
      "model:GaussianMixture\n",
      "Training Score: \t-7.98767\n",
      "Validation Score: \t-28.92050\n",
      "Time for model:  6.294015399999992\n"
     ]
    }
   ],
   "source": [
    "\n",
    "seed = 7\n",
    "# prepare models\n",
    "models = []\n",
    "\n",
    "\n",
    "# models.append(('LR', LogisticRegression()))\n",
    "# # models.append(('LRCV', LogisticRegressionCV()))\n",
    "# models.append(('SDG', SGDClassifier()))\n",
    "# models.append(('RidgeCV', RidgeClassifierCV()))\n",
    "# models.append(('Ridge', RidgeClassifier()))\n",
    "# models.append(('Perceptron', Perceptron()))\n",
    "# models.append(('CART', DecisionTreeClassifier()))\n",
    "\n",
    "# # NetML TOP,\n",
    "# models.append(('ExtraTreesC', ExtraTreesClassifier()))\n",
    "# models.append(('ExtraTreeC', ExtraTreeClassifier()))\n",
    "# models.append(('GB', GradientBoostingClassifier()))\n",
    "# models.append(('LDA', LinearDiscriminantAnalysis()))\n",
    "# models.append(('Quad', QuadraticDiscriminantAnalysis()))\n",
    "# models.append(('MLP',MLPClassifier(max_iter=20)))\n",
    "# models.append(('NB', GaussianNB()))\n",
    "# models.append(('BernC', BernoulliNB()))\n",
    "# # models.append(('CalibC', CalibratedClassifierCV()))\n",
    "models.append(('NearC', NearestCentroid()))\n",
    "models.append(('GaussianMixture', GaussianMixture()))\n",
    "# evaluate each model in turn\n",
    "results = []\n",
    "confusion = []\n",
    "names = []\n",
    "scoring = 'accuracy'\n",
    "print(\"We are good to go ->\")\n",
    " \n",
    "for name, model in models:\n",
    "    start = timeit.default_timer()\n",
    "    print(\"model:\"+name)\n",
    "#     kfold = model_selection.KFold(n_splits=10, random_state=None)\n",
    "#     cv_results = model_selection.cross_val_predict(model, X_train_scaled, y_train, cv=kfold)\n",
    "#     cv_results = model_selection.cross_val_score(model, X_train_scaled, y_train, cv=kfold, scoring=scoring)\n",
    "#     y_pred = cross_val_predict(model, X_train_scaled, y_train, cv=10clf.fit(X_train_scaled, y_train)\n",
    "    cv_results = model.fit(X_train_scaled, y_train)\n",
    "    y_pred = model.predict(X_val_scaled)\n",
    "    \n",
    "    print(\"Training Score: \\t{:.5f}\".format(model.score(X_train_scaled, y_train)))\n",
    "    print(\"Validation Score: \\t{:.5f}\".format(model.score(X_val_scaled, y_val)))\n",
    "    confusion.append(y_pred)\n",
    "    results.append(cv_results)\n",
    "    names.append(name)\n",
    "#     msg = \"%s: %f (%f)\" % (name, cv_results.mean(), cv_results.std())\n",
    "#     print(msg)\n",
    "    \n",
    "    \n",
    "    stop = timeit.default_timer()\n",
    "    print('Time for model: ', stop - start) \n",
    "# boxplot algorithm comparison\n",
    "# fig = plt.figure()\n",
    "# fig.suptitle('Algorithm Comparison')\n",
    "# ax = fig.add_subplot(111)\n",
    "# plt.boxplot(results)\n",
    "# ax.set_xticklabels(names)\n",
    "# plt.show()"
   ]
  },
  {
   "cell_type": "code",
   "execution_count": 13,
   "metadata": {},
   "outputs": [
    {
     "name": "stdout",
     "output_type": "stream",
     "text": [
      "Algo number: 1\n",
      "[[2351    0    1    8    7    0    0    0    0    0    0    7    0    4\n",
      "   680    0    0    0    0    0    0]\n",
      " [   0  981    0    1    0    0    0    0    0    0    0    0    0    0\n",
      "     4    0    2    0  660    0    0]\n",
      " [ 396    0    0   11   72  171    0    0    0    0    3   29    0   10\n",
      "   122    0    0    0    0    1    0]\n",
      " [ 858    0    0  175    5    0    8   26   11   12    0    0    0    4\n",
      "   339    0  189    0    1    0    0]\n",
      " [  62    0    0    1   78    0    0    0    0    0    0    0    0    3\n",
      "    94    0    0    0   38    0    0]\n",
      " [ 384    0    0   15    6  141    0    0    0    1    0   34    0    2\n",
      "   179    0    0    0    7    1    0]\n",
      " [  54    0    0    3   83    0 1324  292    0    0    1    0    0    2\n",
      "    83    0    0    0    0    0    0]\n",
      " [   0    0    0    0    0    0    0 6159 2512  508    2    0    0    0\n",
      "     1    0    0    0    0    0    0]\n",
      " [  38    8    0    3   80    0  987   26 3322  655   12    0   39    5\n",
      "    80  184  291    1  343    0   14]\n",
      " [ 607    1    0   54    2    0    0   12    0 4657    2    0    2    4\n",
      "   769  157    2    1   22    0    0]\n",
      " [ 399    0    0   10   68  155    0   44    0    9   51   26   30    7\n",
      "   140    6    0    0    0    1    0]\n",
      " [ 566    0    0   30   19  155    0    0    0    0    0   90    0    2\n",
      "   363    0    1    0    6    0    0]\n",
      " [   2    0    0    1    0    0    0    0    0    0    0    0   52    0\n",
      "     3   22    0    0    0    0    0]\n",
      " [   0    0    0    0    3    0    0    0    0    0    0    0    0    4\n",
      "     0    0    0    0    0    0    0]\n",
      " [  27    0    0    0    0    0    0  486    0    0    0    0    0    0\n",
      "  3212    0    0    0    0    0    0]\n",
      " [2448    0    0   25    5    0    0  656    0    0    0    1    0    1\n",
      "   193  780 3345    0    0    0    0]\n",
      " [2532    0    1   29    9    0    0  722    0    0    0    2    0    2\n",
      "   207  549 7506    0    0    0    0]\n",
      " [ 380    0    0   17   77  167    0    1    0    0    0   20    0    7\n",
      "   134    0    0    0    0    1    0]\n",
      " [   0 1063    0    0    0    0    0    0    0    0    0    0    0    0\n",
      "     7    0    3    0  623    0    0]\n",
      " [1008    1    5  409   14  153   31    0   76  477    8   62    3    2\n",
      "   310    8    8    5  285  263   25]\n",
      " [ 102  211    0   19    1   52  243   81  132  865   70    0   34    3\n",
      "  9546   56    7    0  888   14 2875]]\n",
      "Algo number: 2\n",
      "[[ 3058     0     0     0     0     0     0     0     0     0     0     0\n",
      "      0     0     0     0     0     0     0     0     0]\n",
      " [ 1648     0     0     0     0     0     0     0     0     0     0     0\n",
      "      0     0     0     0     0     0     0     0     0]\n",
      " [  815     0     0     0     0     0     0     0     0     0     0     0\n",
      "      0     0     0     0     0     0     0     0     0]\n",
      " [ 1628     0     0     0     0     0     0     0     0     0     0     0\n",
      "      0     0     0     0     0     0     0     0     0]\n",
      " [  276     0     0     0     0     0     0     0     0     0     0     0\n",
      "      0     0     0     0     0     0     0     0     0]\n",
      " [  770     0     0     0     0     0     0     0     0     0     0     0\n",
      "      0     0     0     0     0     0     0     0     0]\n",
      " [ 1842     0     0     0     0     0     0     0     0     0     0     0\n",
      "      0     0     0     0     0     0     0     0     0]\n",
      " [ 9182     0     0     0     0     0     0     0     0     0     0     0\n",
      "      0     0     0     0     0     0     0     0     0]\n",
      " [ 6088     0     0     0     0     0     0     0     0     0     0     0\n",
      "      0     0     0     0     0     0     0     0     0]\n",
      " [ 6292     0     0     0     0     0     0     0     0     0     0     0\n",
      "      0     0     0     0     0     0     0     0     0]\n",
      " [  946     0     0     0     0     0     0     0     0     0     0     0\n",
      "      0     0     0     0     0     0     0     0     0]\n",
      " [ 1232     0     0     0     0     0     0     0     0     0     0     0\n",
      "      0     0     0     0     0     0     0     0     0]\n",
      " [   80     0     0     0     0     0     0     0     0     0     0     0\n",
      "      0     0     0     0     0     0     0     0     0]\n",
      " [    7     0     0     0     0     0     0     0     0     0     0     0\n",
      "      0     0     0     0     0     0     0     0     0]\n",
      " [ 3725     0     0     0     0     0     0     0     0     0     0     0\n",
      "      0     0     0     0     0     0     0     0     0]\n",
      " [ 7454     0     0     0     0     0     0     0     0     0     0     0\n",
      "      0     0     0     0     0     0     0     0     0]\n",
      " [11559     0     0     0     0     0     0     0     0     0     0     0\n",
      "      0     0     0     0     0     0     0     0     0]\n",
      " [  804     0     0     0     0     0     0     0     0     0     0     0\n",
      "      0     0     0     0     0     0     0     0     0]\n",
      " [ 1696     0     0     0     0     0     0     0     0     0     0     0\n",
      "      0     0     0     0     0     0     0     0     0]\n",
      " [ 3153     0     0     0     0     0     0     0     0     0     0     0\n",
      "      0     0     0     0     0     0     0     0     0]\n",
      " [15199     0     0     0     0     0     0     0     0     0     0     0\n",
      "      0     0     0     0     0     0     0     0     0]]\n"
     ]
    }
   ],
   "source": [
    "# Print Confusion Matrix\n",
    "# ypred = clf.predict(X_val_scaled)\n",
    "index=1\n",
    "for i in confusion:\n",
    "    print(\"Algo number: \"+str(index))\n",
    "    conf_mat = confusion_matrix(y_true=y_val, y_pred=i)\n",
    "#     print (conf_mat)\n",
    "    index+=1\n",
    "    \n",
    "    \n",
    "    # Plot normalized confusion matrix\n",
    "#     plot_confusion_matrix(directory=save_dir, y_true=y_val, y_pred=i, \n",
    "#                             classes=class_names, \n",
    "#                             normalize=False)\n",
    "# np.set_printoptions(precision=2)\n",
    "\n",
    "# # Plot normalized confusion matrix\n",
    "# plot_confusion_matrix(directory=save_dir, y_true=y_val, y_pred=ypred, \n",
    "#                         classes=class_names, \n",
    "#                         normalize=False)"
   ]
  },
  {
   "cell_type": "code",
   "execution_count": 15,
   "metadata": {},
   "outputs": [
    {
     "name": "stdout",
     "output_type": "stream",
     "text": [
      "Training Score: \t0.75982\n",
      "Validation Score: \t0.75746\n",
      "[[ 1932     0     0     5     0     0     0     0     0     0     1     0\n",
      "      0     0     0  1002   111     0     0     6     1]\n",
      " [    1    92     0     0     0     0     0     0     2     0     0     0\n",
      "      0     0     0     0     0     0  1549     0     4]\n",
      " [  262     0    40     6     0   104     0     0     8     0    23    12\n",
      "      0     0     2   252     7    42     0    55     2]\n",
      " [  423     0     0   394     0     0     0     0     3     0     0     0\n",
      "      0     0     5   564   120     0     0     6   113]\n",
      " [  156     0     2     1    34     0     1     0     7     0    13     0\n",
      "      0     0     1     0     0    60     0     1     0]\n",
      " [  288     0    30     8     0    84     0     0     7     1    10     9\n",
      "      0     0     0   270     6     1     0    52     4]\n",
      " [  132     0     5     1     0     0  1324   290     3     0    15     0\n",
      "      0     0     2     2     1    60     0     4     3]\n",
      " [    0     0     0     0     0     0     0  9181     0     0     0     0\n",
      "      0     0     0     0     0     0     0     0     1]\n",
      " [   72     0    11     0     1     0     0     1  5879     5    14     0\n",
      "      0     0     1     2     0    56     0     7    39]\n",
      " [  294     0     0    69     0     0     0     0     8  5326     0     0\n",
      "      0     0     4   363    13     0     0     6   209]\n",
      " [  295     0    39     7     0   100     0     0    11     0   148     8\n",
      "      0     0     2   232     6    52     0    42     4]\n",
      " [  508     0    42    20     0    89     0     0     7     0     2     7\n",
      "      0     0     3   416     7     1     0   128     2]\n",
      " [    5     0     0     0     0     0     0     0     0     0     0     0\n",
      "     74     0     0     0     1     0     0     0     0]\n",
      " [    4     0     0     0     0     0     0     0     0     0     0     0\n",
      "      0     0     0     0     1     0     0     2     0]\n",
      " [   26     0     0     0     0     0     0     0     0     0     0     0\n",
      "      0     0  3668     3     0     0     0     1    27]\n",
      " [  215     0     0    25     0     0     0   124     2     0     0     0\n",
      "      0     0     0  2890  4188     0     0     5     5]\n",
      " [  225     0     0    30     0     0     0   149     0     0     0     0\n",
      "      0     0     0  2239  8902     0     0    10     4]\n",
      " [  286     0    49    13     0   101     0     0     2     0    24     5\n",
      "      0     0     1   224     5    52     0    42     0]\n",
      " [    2    82     0     0     0     0     0     0     3     0     0     0\n",
      "      0     0     0     0     0     0  1604     0     5]\n",
      " [  415     0    33    21     0    87     0     0   110    26    11    20\n",
      "      0     0     2   441    10     1     0  1915    61]\n",
      " [    9     0     3     0     0     1     0     7    14    30     0     0\n",
      "      0     0     2     9     0     0     0     2 15122]]\n",
      "F1: \t\t\t0.74414\n",
      "mAP: \t\t\t0.42010\n",
      "Confusion matrix is saved as ./results/20210428-132119/CM.png\n",
      "\n"
     ]
    },
    {
     "data": {
      "text/plain": [
       "(<matplotlib.axes._subplots.AxesSubplot at 0x1810f424808>,\n",
       " array([[ 1932,     0,     0,     5,     0,     0,     0,     0,     0,\n",
       "             0,     1,     0,     0,     0,     0,  1002,   111,     0,\n",
       "             0,     6,     1],\n",
       "        [    1,    92,     0,     0,     0,     0,     0,     0,     2,\n",
       "             0,     0,     0,     0,     0,     0,     0,     0,     0,\n",
       "          1549,     0,     4],\n",
       "        [  262,     0,    40,     6,     0,   104,     0,     0,     8,\n",
       "             0,    23,    12,     0,     0,     2,   252,     7,    42,\n",
       "             0,    55,     2],\n",
       "        [  423,     0,     0,   394,     0,     0,     0,     0,     3,\n",
       "             0,     0,     0,     0,     0,     5,   564,   120,     0,\n",
       "             0,     6,   113],\n",
       "        [  156,     0,     2,     1,    34,     0,     1,     0,     7,\n",
       "             0,    13,     0,     0,     0,     1,     0,     0,    60,\n",
       "             0,     1,     0],\n",
       "        [  288,     0,    30,     8,     0,    84,     0,     0,     7,\n",
       "             1,    10,     9,     0,     0,     0,   270,     6,     1,\n",
       "             0,    52,     4],\n",
       "        [  132,     0,     5,     1,     0,     0,  1324,   290,     3,\n",
       "             0,    15,     0,     0,     0,     2,     2,     1,    60,\n",
       "             0,     4,     3],\n",
       "        [    0,     0,     0,     0,     0,     0,     0,  9181,     0,\n",
       "             0,     0,     0,     0,     0,     0,     0,     0,     0,\n",
       "             0,     0,     1],\n",
       "        [   72,     0,    11,     0,     1,     0,     0,     1,  5879,\n",
       "             5,    14,     0,     0,     0,     1,     2,     0,    56,\n",
       "             0,     7,    39],\n",
       "        [  294,     0,     0,    69,     0,     0,     0,     0,     8,\n",
       "          5326,     0,     0,     0,     0,     4,   363,    13,     0,\n",
       "             0,     6,   209],\n",
       "        [  295,     0,    39,     7,     0,   100,     0,     0,    11,\n",
       "             0,   148,     8,     0,     0,     2,   232,     6,    52,\n",
       "             0,    42,     4],\n",
       "        [  508,     0,    42,    20,     0,    89,     0,     0,     7,\n",
       "             0,     2,     7,     0,     0,     3,   416,     7,     1,\n",
       "             0,   128,     2],\n",
       "        [    5,     0,     0,     0,     0,     0,     0,     0,     0,\n",
       "             0,     0,     0,    74,     0,     0,     0,     1,     0,\n",
       "             0,     0,     0],\n",
       "        [    4,     0,     0,     0,     0,     0,     0,     0,     0,\n",
       "             0,     0,     0,     0,     0,     0,     0,     1,     0,\n",
       "             0,     2,     0],\n",
       "        [   26,     0,     0,     0,     0,     0,     0,     0,     0,\n",
       "             0,     0,     0,     0,     0,  3668,     3,     0,     0,\n",
       "             0,     1,    27],\n",
       "        [  215,     0,     0,    25,     0,     0,     0,   124,     2,\n",
       "             0,     0,     0,     0,     0,     0,  2890,  4188,     0,\n",
       "             0,     5,     5],\n",
       "        [  225,     0,     0,    30,     0,     0,     0,   149,     0,\n",
       "             0,     0,     0,     0,     0,     0,  2239,  8902,     0,\n",
       "             0,    10,     4],\n",
       "        [  286,     0,    49,    13,     0,   101,     0,     0,     2,\n",
       "             0,    24,     5,     0,     0,     1,   224,     5,    52,\n",
       "             0,    42,     0],\n",
       "        [    2,    82,     0,     0,     0,     0,     0,     0,     3,\n",
       "             0,     0,     0,     0,     0,     0,     0,     0,     0,\n",
       "          1604,     0,     5],\n",
       "        [  415,     0,    33,    21,     0,    87,     0,     0,   110,\n",
       "            26,    11,    20,     0,     0,     2,   441,    10,     1,\n",
       "             0,  1915,    61],\n",
       "        [    9,     0,     3,     0,     0,     1,     0,     7,    14,\n",
       "            30,     0,     0,     0,     0,     2,     9,     0,     0,\n",
       "             0,     2, 15122]], dtype=int64))"
      ]
     },
     "execution_count": 15,
     "metadata": {},
     "output_type": "execute_result"
    },
    {
     "data": {
      "image/png": "[encoded data removed]",
      "text/plain": [
       "<Figure size 432x288 with 1 Axes>"
      ]
     },
     "metadata": {
      "needs_background": "light"
     },
     "output_type": "display_data"
    }
   ],
   "source": [
    "# # last result\n",
    "# clf = RandomForestClassifier(n_estimators=100, max_depth=10, random_state=42, n_jobs = -1, max_features=\"auto\")\n",
    "# cv_results = clf.fit(X_train_scaled, y_train)\n",
    "# yPred = clf.predict(X_val_scaled)\n",
    "# print(\"Training Score: \\t{:.5f}\".format(clf.score(X_train_scaled, y_train)))\n",
    "# print(\"Validation Score: \\t{:.5f}\".format(clf.score(X_val_scaled, y_val)))\n",
    "# conf_mat = confusion_matrix(y_true=y_val, y_pred=yPred)\n",
    "# print (conf_mat)\n",
    "    \n",
    "    \n",
    "# # Plot normalized confusion matrix\n",
    "# plot_confusion_matrix(directory=save_dir, y_true=y_val, y_pred=yPred, \n",
    "#                             classes=class_names, \n",
    "#                             normalize=False)"
   ]
  },
  {
   "cell_type": "code",
   "execution_count": 17,
   "metadata": {},
   "outputs": [
    {
     "name": "stdout",
     "output_type": "stream",
     "text": [
      "Training Score: \t0.93547\n",
      "Validation Score: \t0.77638\n",
      "[[ 2398     1    49   129    13    25     6     0     1    43    11    98\n",
      "      0     0     1   132   106     5     0    40     0]\n",
      " [    0   825     0     0     0     0     0     0     0     0     0     0\n",
      "      0     0     0     0     0     0   822     0     1]\n",
      " [    4     0    24     4   136   188    49     0    12     0   206    57\n",
      "      0     0     0     9     0    78     0    44     4]\n",
      " [  104     0    20   729     1    11     0     0     2   512     8    28\n",
      "      0     1     3   100    79     3     0     9    18]\n",
      " [    4     0   141     0    38     0    55     0    19     0    17     0\n",
      "      0     0     0     0     0     1     0     1     0]\n",
      " [    8     0   162     3     0    19     0     0     6     4    94   353\n",
      "      0     0     0     8     3    37     0    69     4]\n",
      " [    2     0   142     0    45     0  1616     0    18     0    15     0\n",
      "      1     0     0     0     0     1     0     1     1]\n",
      " [    0     0     0     0     0     0     0  9180     0     0     0     0\n",
      "      0     0     0     0     1     0     0     0     1]\n",
      " [    1     0   101     0    32     0    14     1  5912     0    11     0\n",
      "      0     0     0     0     0     3     0     1    12]\n",
      " [   56     0    13   542     1     7     0     0     2  5532     4    12\n",
      "      0     0     0    44    25     2     0    11    41]\n",
      " [    9     0   455     0    44    78    23     1     6     0   168    48\n",
      "      0     0     0     6     2    70     0    34     2]\n",
      " [   33     1   177     8     0   473     1     0     3     5    51   198\n",
      "      0     0     0    27    16    36     0   202     1]\n",
      " [    0     0     1     0     0     3     0     0     0     1     0     0\n",
      "     74     0     0     0     0     0     0     0     1]\n",
      " [    1     0     0     1     0     0     0     0     0     0     0     0\n",
      "      0     5     0     0     0     0     0     0     0]\n",
      " [    0     0     0     1     0     0     0     0     0     0     0     2\n",
      "      0     0  3715     1     2     0     0     2     2]\n",
      " [  115     0    35    85     2    17     3     0     2    23     5    53\n",
      "      0     0     3  3837  3254     4     0    14     2]\n",
      " [   88     0    18    70     2    15     0     0     1    13     6    34\n",
      "      0     0     2  3413  7883     5     0     7     2]\n",
      " [    8     0   411     2    68    77    16     0    10     0   100    40\n",
      "      0     0     0     2     1    20     0    48     1]\n",
      " [    0   874     0     0     0     0     0     0     0     0     0     0\n",
      "      0     0     0     0     0     0   822     0     0]\n",
      " [   33     1   323     5     4   209     1     0    16     9    81   352\n",
      "      1     0     0    17    12    46     0  2035     8]\n",
      " [    7     1     3    23     1     1     3     1    10    31     0     2\n",
      "      0     0     3     2     2     0     0     5 15104]]\n",
      "F1: \t\t\t0.78205\n",
      "mAP: \t\t\t0.47194\n"
     ]
    },
    {
     "ename": "FileNotFoundError",
     "evalue": "[Errno 2] No such file or directory: 'C:\\\\Users\\\\Naor\\\\Desktop\\\\cyber\\\\NetMLnew\\\\NetML-Competition2020/results/20210428-132119/CM.png'",
     "output_type": "error",
     "traceback": [
      "\u001b[1;31m---------------------------------------------------------------------------\u001b[0m",
      "\u001b[1;31mFileNotFoundError\u001b[0m                         Traceback (most recent call last)",
      "\u001b[1;32m<ipython-input-17-64ec3ef55dbe>\u001b[0m in \u001b[0;36m<module>\u001b[1;34m\u001b[0m\n\u001b[0;32m     12\u001b[0m plot_confusion_matrix(directory=save_dir, y_true=y_val, y_pred=yPred, \n\u001b[0;32m     13\u001b[0m                             \u001b[0mclasses\u001b[0m\u001b[1;33m=\u001b[0m\u001b[0mclass_names\u001b[0m\u001b[1;33m,\u001b[0m\u001b[1;33m\u001b[0m\u001b[1;33m\u001b[0m\u001b[0m\n\u001b[1;32m---> 14\u001b[1;33m                             normalize=False)\n\u001b[0m",
      "\u001b[1;32m~\\Desktop\\cyber\\NetMLnew\\NetML-Competition2020\\utils\\helper.py\u001b[0m in \u001b[0;36mplot_confusion_matrix\u001b[1;34m(directory, y_true, y_pred, classes, normalize, title, cmap)\u001b[0m\n\u001b[0;32m    337\u001b[0m \u001b[1;33m\u001b[0m\u001b[0m\n\u001b[0;32m    338\u001b[0m     \u001b[0mfig\u001b[0m\u001b[1;33m.\u001b[0m\u001b[0mtight_layout\u001b[0m\u001b[1;33m(\u001b[0m\u001b[1;33m)\u001b[0m\u001b[1;33m\u001b[0m\u001b[1;33m\u001b[0m\u001b[0m\n\u001b[1;32m--> 339\u001b[1;33m     \u001b[0mfig\u001b[0m\u001b[1;33m.\u001b[0m\u001b[0msavefig\u001b[0m\u001b[1;33m(\u001b[0m\u001b[0mdirectory\u001b[0m\u001b[1;33m+\u001b[0m\u001b[1;34m\"/CM.png\"\u001b[0m\u001b[1;33m,\u001b[0m \u001b[0mbbox_inches\u001b[0m\u001b[1;33m=\u001b[0m\u001b[1;34m'tight'\u001b[0m\u001b[1;33m)\u001b[0m\u001b[1;33m\u001b[0m\u001b[1;33m\u001b[0m\u001b[0m\n\u001b[0m\u001b[0;32m    340\u001b[0m     \u001b[0mprint\u001b[0m\u001b[1;33m(\u001b[0m\u001b[1;34m\"Confusion matrix is saved as .{}/CM.png\\n\"\u001b[0m\u001b[1;33m.\u001b[0m\u001b[0mformat\u001b[0m\u001b[1;33m(\u001b[0m\u001b[0mdirectory\u001b[0m\u001b[1;33m[\u001b[0m\u001b[0mdirectory\u001b[0m\u001b[1;33m.\u001b[0m\u001b[0mfind\u001b[0m\u001b[1;33m(\u001b[0m\u001b[1;34m\"/results\"\u001b[0m\u001b[1;33m)\u001b[0m\u001b[1;33m:\u001b[0m\u001b[1;33m]\u001b[0m\u001b[1;33m)\u001b[0m\u001b[1;33m)\u001b[0m\u001b[1;33m\u001b[0m\u001b[1;33m\u001b[0m\u001b[0m\n\u001b[0;32m    341\u001b[0m \u001b[1;33m\u001b[0m\u001b[0m\n",
      "\u001b[1;32m~\\anaconda3\\lib\\site-packages\\matplotlib\\figure.py\u001b[0m in \u001b[0;36msavefig\u001b[1;34m(self, fname, transparent, **kwargs)\u001b[0m\n\u001b[0;32m   2178\u001b[0m             \u001b[0mself\u001b[0m\u001b[1;33m.\u001b[0m\u001b[0mpatch\u001b[0m\u001b[1;33m.\u001b[0m\u001b[0mset_visible\u001b[0m\u001b[1;33m(\u001b[0m\u001b[0mframeon\u001b[0m\u001b[1;33m)\u001b[0m\u001b[1;33m\u001b[0m\u001b[1;33m\u001b[0m\u001b[0m\n\u001b[0;32m   2179\u001b[0m \u001b[1;33m\u001b[0m\u001b[0m\n\u001b[1;32m-> 2180\u001b[1;33m         \u001b[0mself\u001b[0m\u001b[1;33m.\u001b[0m\u001b[0mcanvas\u001b[0m\u001b[1;33m.\u001b[0m\u001b[0mprint_figure\u001b[0m\u001b[1;33m(\u001b[0m\u001b[0mfname\u001b[0m\u001b[1;33m,\u001b[0m \u001b[1;33m**\u001b[0m\u001b[0mkwargs\u001b[0m\u001b[1;33m)\u001b[0m\u001b[1;33m\u001b[0m\u001b[1;33m\u001b[0m\u001b[0m\n\u001b[0m\u001b[0;32m   2181\u001b[0m \u001b[1;33m\u001b[0m\u001b[0m\n\u001b[0;32m   2182\u001b[0m         \u001b[1;32mif\u001b[0m \u001b[0mframeon\u001b[0m\u001b[1;33m:\u001b[0m\u001b[1;33m\u001b[0m\u001b[1;33m\u001b[0m\u001b[0m\n",
      "\u001b[1;32m~\\anaconda3\\lib\\site-packages\\matplotlib\\backend_bases.py\u001b[0m in \u001b[0;36mprint_figure\u001b[1;34m(self, filename, dpi, facecolor, edgecolor, orientation, format, bbox_inches, **kwargs)\u001b[0m\n\u001b[0;32m   2089\u001b[0m                     \u001b[0morientation\u001b[0m\u001b[1;33m=\u001b[0m\u001b[0morientation\u001b[0m\u001b[1;33m,\u001b[0m\u001b[1;33m\u001b[0m\u001b[1;33m\u001b[0m\u001b[0m\n\u001b[0;32m   2090\u001b[0m                     \u001b[0mbbox_inches_restore\u001b[0m\u001b[1;33m=\u001b[0m\u001b[0m_bbox_inches_restore\u001b[0m\u001b[1;33m,\u001b[0m\u001b[1;33m\u001b[0m\u001b[1;33m\u001b[0m\u001b[0m\n\u001b[1;32m-> 2091\u001b[1;33m                     **kwargs)\n\u001b[0m\u001b[0;32m   2092\u001b[0m             \u001b[1;32mfinally\u001b[0m\u001b[1;33m:\u001b[0m\u001b[1;33m\u001b[0m\u001b[1;33m\u001b[0m\u001b[0m\n\u001b[0;32m   2093\u001b[0m                 \u001b[1;32mif\u001b[0m \u001b[0mbbox_inches\u001b[0m \u001b[1;32mand\u001b[0m \u001b[0mrestore_bbox\u001b[0m\u001b[1;33m:\u001b[0m\u001b[1;33m\u001b[0m\u001b[1;33m\u001b[0m\u001b[0m\n",
      "\u001b[1;32m~\\anaconda3\\lib\\site-packages\\matplotlib\\backends\\backend_agg.py\u001b[0m in \u001b[0;36mprint_png\u001b[1;34m(self, filename_or_obj, metadata, pil_kwargs, *args, **kwargs)\u001b[0m\n\u001b[0;32m    528\u001b[0m             \u001b[0mrenderer\u001b[0m \u001b[1;33m=\u001b[0m \u001b[0mself\u001b[0m\u001b[1;33m.\u001b[0m\u001b[0mget_renderer\u001b[0m\u001b[1;33m(\u001b[0m\u001b[1;33m)\u001b[0m\u001b[1;33m\u001b[0m\u001b[1;33m\u001b[0m\u001b[0m\n\u001b[0;32m    529\u001b[0m             \u001b[1;32mwith\u001b[0m \u001b[0mcbook\u001b[0m\u001b[1;33m.\u001b[0m\u001b[0m_setattr_cm\u001b[0m\u001b[1;33m(\u001b[0m\u001b[0mrenderer\u001b[0m\u001b[1;33m,\u001b[0m \u001b[0mdpi\u001b[0m\u001b[1;33m=\u001b[0m\u001b[0mself\u001b[0m\u001b[1;33m.\u001b[0m\u001b[0mfigure\u001b[0m\u001b[1;33m.\u001b[0m\u001b[0mdpi\u001b[0m\u001b[1;33m)\u001b[0m\u001b[1;33m,\u001b[0m\u001b[0;31m \u001b[0m\u001b[0;31m\\\u001b[0m\u001b[1;33m\u001b[0m\u001b[1;33m\u001b[0m\u001b[0m\n\u001b[1;32m--> 530\u001b[1;33m                     \u001b[0mcbook\u001b[0m\u001b[1;33m.\u001b[0m\u001b[0mopen_file_cm\u001b[0m\u001b[1;33m(\u001b[0m\u001b[0mfilename_or_obj\u001b[0m\u001b[1;33m,\u001b[0m \u001b[1;34m\"wb\"\u001b[0m\u001b[1;33m)\u001b[0m \u001b[1;32mas\u001b[0m \u001b[0mfh\u001b[0m\u001b[1;33m:\u001b[0m\u001b[1;33m\u001b[0m\u001b[1;33m\u001b[0m\u001b[0m\n\u001b[0m\u001b[0;32m    531\u001b[0m                 _png.write_png(renderer._renderer, fh,\n\u001b[0;32m    532\u001b[0m                                self.figure.dpi, metadata=metadata)\n",
      "\u001b[1;32m~\\anaconda3\\lib\\contextlib.py\u001b[0m in \u001b[0;36m__enter__\u001b[1;34m(self)\u001b[0m\n\u001b[0;32m    110\u001b[0m         \u001b[1;32mdel\u001b[0m \u001b[0mself\u001b[0m\u001b[1;33m.\u001b[0m\u001b[0margs\u001b[0m\u001b[1;33m,\u001b[0m \u001b[0mself\u001b[0m\u001b[1;33m.\u001b[0m\u001b[0mkwds\u001b[0m\u001b[1;33m,\u001b[0m \u001b[0mself\u001b[0m\u001b[1;33m.\u001b[0m\u001b[0mfunc\u001b[0m\u001b[1;33m\u001b[0m\u001b[1;33m\u001b[0m\u001b[0m\n\u001b[0;32m    111\u001b[0m         \u001b[1;32mtry\u001b[0m\u001b[1;33m:\u001b[0m\u001b[1;33m\u001b[0m\u001b[1;33m\u001b[0m\u001b[0m\n\u001b[1;32m--> 112\u001b[1;33m             \u001b[1;32mreturn\u001b[0m \u001b[0mnext\u001b[0m\u001b[1;33m(\u001b[0m\u001b[0mself\u001b[0m\u001b[1;33m.\u001b[0m\u001b[0mgen\u001b[0m\u001b[1;33m)\u001b[0m\u001b[1;33m\u001b[0m\u001b[1;33m\u001b[0m\u001b[0m\n\u001b[0m\u001b[0;32m    113\u001b[0m         \u001b[1;32mexcept\u001b[0m \u001b[0mStopIteration\u001b[0m\u001b[1;33m:\u001b[0m\u001b[1;33m\u001b[0m\u001b[1;33m\u001b[0m\u001b[0m\n\u001b[0;32m    114\u001b[0m             \u001b[1;32mraise\u001b[0m \u001b[0mRuntimeError\u001b[0m\u001b[1;33m(\u001b[0m\u001b[1;34m\"generator didn't yield\"\u001b[0m\u001b[1;33m)\u001b[0m \u001b[1;32mfrom\u001b[0m \u001b[1;32mNone\u001b[0m\u001b[1;33m\u001b[0m\u001b[1;33m\u001b[0m\u001b[0m\n",
      "\u001b[1;32m~\\anaconda3\\lib\\site-packages\\matplotlib\\cbook\\__init__.py\u001b[0m in \u001b[0;36mopen_file_cm\u001b[1;34m(path_or_file, mode, encoding)\u001b[0m\n\u001b[0;32m    445\u001b[0m \u001b[1;32mdef\u001b[0m \u001b[0mopen_file_cm\u001b[0m\u001b[1;33m(\u001b[0m\u001b[0mpath_or_file\u001b[0m\u001b[1;33m,\u001b[0m \u001b[0mmode\u001b[0m\u001b[1;33m=\u001b[0m\u001b[1;34m\"r\"\u001b[0m\u001b[1;33m,\u001b[0m \u001b[0mencoding\u001b[0m\u001b[1;33m=\u001b[0m\u001b[1;32mNone\u001b[0m\u001b[1;33m)\u001b[0m\u001b[1;33m:\u001b[0m\u001b[1;33m\u001b[0m\u001b[1;33m\u001b[0m\u001b[0m\n\u001b[0;32m    446\u001b[0m     \u001b[1;34mr\"\"\"Pass through file objects and context-manage `.PathLike`\\s.\"\"\"\u001b[0m\u001b[1;33m\u001b[0m\u001b[1;33m\u001b[0m\u001b[0m\n\u001b[1;32m--> 447\u001b[1;33m     \u001b[0mfh\u001b[0m\u001b[1;33m,\u001b[0m \u001b[0mopened\u001b[0m \u001b[1;33m=\u001b[0m \u001b[0mto_filehandle\u001b[0m\u001b[1;33m(\u001b[0m\u001b[0mpath_or_file\u001b[0m\u001b[1;33m,\u001b[0m \u001b[0mmode\u001b[0m\u001b[1;33m,\u001b[0m \u001b[1;32mTrue\u001b[0m\u001b[1;33m,\u001b[0m \u001b[0mencoding\u001b[0m\u001b[1;33m)\u001b[0m\u001b[1;33m\u001b[0m\u001b[1;33m\u001b[0m\u001b[0m\n\u001b[0m\u001b[0;32m    448\u001b[0m     \u001b[1;32mif\u001b[0m \u001b[0mopened\u001b[0m\u001b[1;33m:\u001b[0m\u001b[1;33m\u001b[0m\u001b[1;33m\u001b[0m\u001b[0m\n\u001b[0;32m    449\u001b[0m         \u001b[1;32mwith\u001b[0m \u001b[0mfh\u001b[0m\u001b[1;33m:\u001b[0m\u001b[1;33m\u001b[0m\u001b[1;33m\u001b[0m\u001b[0m\n",
      "\u001b[1;32m~\\anaconda3\\lib\\site-packages\\matplotlib\\cbook\\__init__.py\u001b[0m in \u001b[0;36mto_filehandle\u001b[1;34m(fname, flag, return_opened, encoding)\u001b[0m\n\u001b[0;32m    430\u001b[0m             \u001b[0mfh\u001b[0m \u001b[1;33m=\u001b[0m \u001b[0mbz2\u001b[0m\u001b[1;33m.\u001b[0m\u001b[0mBZ2File\u001b[0m\u001b[1;33m(\u001b[0m\u001b[0mfname\u001b[0m\u001b[1;33m,\u001b[0m \u001b[0mflag\u001b[0m\u001b[1;33m)\u001b[0m\u001b[1;33m\u001b[0m\u001b[1;33m\u001b[0m\u001b[0m\n\u001b[0;32m    431\u001b[0m         \u001b[1;32melse\u001b[0m\u001b[1;33m:\u001b[0m\u001b[1;33m\u001b[0m\u001b[1;33m\u001b[0m\u001b[0m\n\u001b[1;32m--> 432\u001b[1;33m             \u001b[0mfh\u001b[0m \u001b[1;33m=\u001b[0m \u001b[0mopen\u001b[0m\u001b[1;33m(\u001b[0m\u001b[0mfname\u001b[0m\u001b[1;33m,\u001b[0m \u001b[0mflag\u001b[0m\u001b[1;33m,\u001b[0m \u001b[0mencoding\u001b[0m\u001b[1;33m=\u001b[0m\u001b[0mencoding\u001b[0m\u001b[1;33m)\u001b[0m\u001b[1;33m\u001b[0m\u001b[1;33m\u001b[0m\u001b[0m\n\u001b[0m\u001b[0;32m    433\u001b[0m         \u001b[0mopened\u001b[0m \u001b[1;33m=\u001b[0m \u001b[1;32mTrue\u001b[0m\u001b[1;33m\u001b[0m\u001b[1;33m\u001b[0m\u001b[0m\n\u001b[0;32m    434\u001b[0m     \u001b[1;32melif\u001b[0m \u001b[0mhasattr\u001b[0m\u001b[1;33m(\u001b[0m\u001b[0mfname\u001b[0m\u001b[1;33m,\u001b[0m \u001b[1;34m'seek'\u001b[0m\u001b[1;33m)\u001b[0m\u001b[1;33m:\u001b[0m\u001b[1;33m\u001b[0m\u001b[1;33m\u001b[0m\u001b[0m\n",
      "\u001b[1;31mFileNotFoundError\u001b[0m: [Errno 2] No such file or directory: 'C:\\\\Users\\\\Naor\\\\Desktop\\\\cyber\\\\NetMLnew\\\\NetML-Competition2020/results/20210428-132119/CM.png'"
     ]
    },
    {
     "data": {
      "image/png": "[encoded data removed]",
      "text/plain": [
       "<Figure size 432x288 with 1 Axes>"
      ]
     },
     "metadata": {
      "needs_background": "light"
     },
     "output_type": "display_data"
    }
   ],
   "source": [
    "# last result\n",
    "clf = ExtraTreesClassifier()\n",
    "cv_results = clf.fit(X_train_scaled, y_train)\n",
    "yPred = clf.predict(X_val_scaled)\n",
    "print(\"Training Score: \\t{:.5f}\".format(clf.score(X_train_scaled, y_train)))\n",
    "print(\"Validation Score: \\t{:.5f}\".format(clf.score(X_val_scaled, y_val)))\n",
    "conf_mat = confusion_matrix(y_true=y_val, y_pred=yPred)\n",
    "print (conf_mat)\n",
    "    \n",
    "    \n",
    "# Plot normalized confusion matrix\n",
    "plot_confusion_matrix(directory=save_dir, y_true=y_val, y_pred=yPred, \n",
    "                            classes=class_names, \n",
    "                            normalize=False)"
   ]
  },
  {
   "cell_type": "code",
   "execution_count": null,
   "metadata": {},
   "outputs": [],
   "source": [
    "# Make submission with JSON format\n",
    "if submit == \"test-std\" or submit == \"both\":\n",
    "    do_submit(clf, test_set, scaler, class_label_pair, save_dir+\"/submission_test-std.json\")\n",
    "if submit == \"test-challenge\" or submit == \"both\":\n",
    "    do_submit(clf, challenge_set, scaler, class_label_pair, save_dir+\"/submission_test-challenge.json\")\n"
   ]
  },
  {
   "cell_type": "code",
   "execution_count": null,
   "metadata": {},
   "outputs": [],
   "source": []
  }
 ],
 "metadata": {
  "kernelspec": {
   "display_name": "Python 3",
   "language": "python",
   "name": "python3"
  },
  "language_info": {
   "codemirror_mode": {
    "name": "ipython",
    "version": 3
   },
   "file_extension": ".py",
   "mimetype": "text/x-python",
   "name": "python",
   "nbconvert_exporter": "python",
   "pygments_lexer": "ipython3",
   "version": "3.7.6"
  }
 },
 "nbformat": 4,
 "nbformat_minor": 2
}
